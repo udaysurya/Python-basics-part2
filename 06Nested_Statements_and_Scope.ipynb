{
  "nbformat": 4,
  "nbformat_minor": 0,
  "metadata": {
    "kernelspec": {
      "display_name": "Python 3",
      "language": "python",
      "name": "python3"
    },
    "language_info": {
      "codemirror_mode": {
        "name": "ipython",
        "version": 3
      },
      "file_extension": ".py",
      "mimetype": "text/x-python",
      "name": "python",
      "nbconvert_exporter": "python",
      "pygments_lexer": "ipython3",
      "version": "3.6.5"
    },
    "colab": {
      "name": "06Nested_Statements_and_Scope (1).ipynb",
      "version": "0.3.2",
      "provenance": []
    }
  },
  "cells": [
    {
      "cell_type": "markdown",
      "metadata": {
        "id": "AC8F3DZPFrRW",
        "colab_type": "text"
      },
      "source": [
        "# Nested Statements and Scope \n",
        "\n",
        "Now that we have gone over writing our own functions, it's important to understand how Python deals with the variable names you assign. When you create a variable name in Python the name is stored in a *name-space*. Variable names also have a *scope*, the scope determines the visibility of that variable name to other parts of your code.\n",
        "\n",
        "Let's start with a quick thought experiment; imagine the following code:"
      ]
    },
    {
      "cell_type": "code",
      "metadata": {
        "id": "BCa9PESyFrRX",
        "colab_type": "code",
        "colab": {}
      },
      "source": [
        "x = 25\n",
        "\n",
        "def printer():\n",
        "    x = 50\n",
        "    return x\n",
        "\n",
        "# print(x)\n",
        "# print(printer())"
      ],
      "execution_count": 0,
      "outputs": []
    },
    {
      "cell_type": "markdown",
      "metadata": {
        "id": "-JQV6DNMFrRb",
        "colab_type": "text"
      },
      "source": [
        "What do you imagine the output of printer() is? 25 or 50? What is the output of print x? 25 or 50?"
      ]
    },
    {
      "cell_type": "code",
      "metadata": {
        "id": "JJI_djoIFrRb",
        "colab_type": "code",
        "colab": {
          "base_uri": "https://localhost:8080/",
          "height": 34
        },
        "outputId": "f37f7e1f-cc49-49dc-e509-dc84c4077b62"
      },
      "source": [
        "print(x)"
      ],
      "execution_count": 2,
      "outputs": [
        {
          "output_type": "stream",
          "text": [
            "25\n"
          ],
          "name": "stdout"
        }
      ]
    },
    {
      "cell_type": "code",
      "metadata": {
        "id": "5i0omjnLFrRh",
        "colab_type": "code",
        "colab": {
          "base_uri": "https://localhost:8080/",
          "height": 34
        },
        "outputId": "d59fee17-7ae9-47c7-d7a8-0ee49a475d9c"
      },
      "source": [
        "print(printer())"
      ],
      "execution_count": 3,
      "outputs": [
        {
          "output_type": "stream",
          "text": [
            "50\n"
          ],
          "name": "stdout"
        }
      ]
    },
    {
      "cell_type": "markdown",
      "metadata": {
        "id": "Iut_mZlNFrRk",
        "colab_type": "text"
      },
      "source": [
        "Interesting! But how does Python know which **x** you're referring to in your code? This is where the idea of scope comes in. Python has a set of rules it follows to decide what variables (such as **x** in this case) you are referencing in your code. Lets break down the rules:"
      ]
    },
    {
      "cell_type": "markdown",
      "metadata": {
        "collapsed": true,
        "id": "sLIwIkTaFrRl",
        "colab_type": "text"
      },
      "source": [
        "This idea of scope in your code is very important to understand in order to properly assign and call variable names. \n",
        "\n",
        "In simple terms, the idea of scope can be described by 3 general rules:\n",
        "\n",
        "1. Name assignments will create or change local names by default.\n",
        "2. Name references search (at most) four scopes, these are:\n",
        "    * local\n",
        "    * enclosing functions\n",
        "    * global\n",
        "    * built-in\n",
        "3. Names declared in global and nonlocal statements map assigned names to enclosing module and function scopes.\n",
        "\n",
        "\n",
        "The statement in #2 above can be defined by the LEGB rule.\n",
        "\n",
        "**LEGB Rule:**\n",
        "\n",
        "L: Local — Names assigned in any way within a function (def or lambda), and not declared global in that function.\n",
        "\n",
        "E: Enclosing function locals — Names in the local scope of any and all enclosing functions (def or lambda), from inner to outer.\n",
        "\n",
        "G: Global (module) — Names assigned at the top-level of a module file, or declared global in a def within the file.\n",
        "\n",
        "B: Built-in (Python) — Names preassigned in the built-in names module : open, range, SyntaxError,..."
      ]
    },
    {
      "cell_type": "markdown",
      "metadata": {
        "id": "k-_mjBldFrRm",
        "colab_type": "text"
      },
      "source": [
        "## Quick examples of LEGB\n",
        "\n",
        "### Local"
      ]
    },
    {
      "cell_type": "code",
      "metadata": {
        "id": "_wCvYJooFrRm",
        "colab_type": "code",
        "colab": {}
      },
      "source": [
        "# x is local here:\n",
        "f = lambda x:x**2"
      ],
      "execution_count": 0,
      "outputs": []
    },
    {
      "cell_type": "markdown",
      "metadata": {
        "id": "ns_mqeyzFrRp",
        "colab_type": "text"
      },
      "source": [
        "### Enclosing function locals\n",
        "This occurs when we have a function inside a function (nested functions)\n"
      ]
    },
    {
      "cell_type": "code",
      "metadata": {
        "id": "1vFQEt5MFrRq",
        "colab_type": "code",
        "colab": {
          "base_uri": "https://localhost:8080/",
          "height": 34
        },
        "outputId": "27667f8a-ca9d-472a-c62b-bac7a71d8969"
      },
      "source": [
        "name = 'This is a global name'\n",
        "\n",
        "def greet():\n",
        "    # Enclosing function\n",
        "    name = 'Sammy'\n",
        "    \n",
        "    def hello():\n",
        "        print('Hello '+name)\n",
        "    \n",
        "    hello()\n",
        "\n",
        "greet()"
      ],
      "execution_count": 5,
      "outputs": [
        {
          "output_type": "stream",
          "text": [
            "Hello Sammy\n"
          ],
          "name": "stdout"
        }
      ]
    },
    {
      "cell_type": "markdown",
      "metadata": {
        "id": "afAirbUgFrRt",
        "colab_type": "text"
      },
      "source": [
        "Note how Sammy was used, because the hello() function was enclosed inside of the greet function!"
      ]
    },
    {
      "cell_type": "markdown",
      "metadata": {
        "id": "4LZ6QAO8FrRu",
        "colab_type": "text"
      },
      "source": [
        "### Global\n",
        "Luckily in Jupyter a quick way to test for global variables is to see if another cell recognizes the variable!"
      ]
    },
    {
      "cell_type": "code",
      "metadata": {
        "id": "5mRavXjJFrRw",
        "colab_type": "code",
        "colab": {
          "base_uri": "https://localhost:8080/",
          "height": 34
        },
        "outputId": "84c1aebf-d954-4077-c446-c709b8d267da"
      },
      "source": [
        "print(name)"
      ],
      "execution_count": 6,
      "outputs": [
        {
          "output_type": "stream",
          "text": [
            "This is a global name\n"
          ],
          "name": "stdout"
        }
      ]
    },
    {
      "cell_type": "markdown",
      "metadata": {
        "id": "pvCUP4nIFrRz",
        "colab_type": "text"
      },
      "source": [
        "### Built-in\n",
        "These are the built-in function names in Python (don't overwrite these!)"
      ]
    },
    {
      "cell_type": "code",
      "metadata": {
        "id": "MbbV2gwFFrR1",
        "colab_type": "code",
        "colab": {
          "base_uri": "https://localhost:8080/",
          "height": 34
        },
        "outputId": "575d8b99-967d-4483-bbf9-e4e69951fe5d"
      },
      "source": [
        "len"
      ],
      "execution_count": 7,
      "outputs": [
        {
          "output_type": "execute_result",
          "data": {
            "text/plain": [
              "<function len>"
            ]
          },
          "metadata": {
            "tags": []
          },
          "execution_count": 7
        }
      ]
    },
    {
      "cell_type": "markdown",
      "metadata": {
        "id": "vAVXd_eLFrR4",
        "colab_type": "text"
      },
      "source": [
        "## Local Variables\n",
        "When you declare variables inside a function definition, they are not related in any way to other variables with the same names used outside the function - i.e. variable names are local to the function. This is called the scope of the variable. All variables have the scope of the block they are declared in starting from the point of definition of the name.\n",
        "\n",
        "Example:"
      ]
    },
    {
      "cell_type": "code",
      "metadata": {
        "id": "5iDInz0_FrR5",
        "colab_type": "code",
        "colab": {
          "base_uri": "https://localhost:8080/",
          "height": 68
        },
        "outputId": "313f2d2c-cd9d-407e-a729-e0dbf77cb001"
      },
      "source": [
        "x = 50\n",
        "\n",
        "def func(x):\n",
        "    print('x is', x)\n",
        "    x = 2\n",
        "    print('Changed local x to', x)\n",
        "\n",
        "func(x)\n",
        "\n",
        "print('x is still', x)"
      ],
      "execution_count": 9,
      "outputs": [
        {
          "output_type": "stream",
          "text": [
            "x is 50\n",
            "Changed local x to 2\n",
            "x is still 50\n"
          ],
          "name": "stdout"
        }
      ]
    },
    {
      "cell_type": "markdown",
      "metadata": {
        "id": "nfmZfJ_iFrR8",
        "colab_type": "text"
      },
      "source": [
        "The first time that we print the value of the name **x** with the first line in the function’s body, Python uses the value of the parameter declared in the main block, above the function definition.\n",
        "\n",
        "Next, we assign the value 2 to **x**. The name **x** is local to our function. So, when we change the value of **x** in the function, the **x** defined in the main block remains unaffected.\n",
        "\n",
        "With the last print statement, we display the value of **x** as defined in the main block, thereby confirming that it is actually unaffected by the local assignment within the previously called function.\n",
        "\n",
        "## The <code>global</code> statement\n",
        "If you want to assign a value to a name defined at the top level of the program (i.e. not inside any kind of scope such as functions or classes), then you have to tell Python that the name is not local, but it is global. We do this using the <code>global</code> statement. It is impossible to assign a value to a variable defined outside a function without the global statement.\n",
        "\n",
        "You can use the values of such variables defined outside the function (assuming there is no variable with the same name within the function). However, this is not encouraged and should be avoided since it becomes unclear to the reader of the program as to where that variable’s definition is. Using the <code>global</code> statement makes it amply clear that the variable is defined in an outermost block.\n",
        "\n",
        "Example:"
      ]
    },
    {
      "cell_type": "code",
      "metadata": {
        "id": "mRspC7MQFrR9",
        "colab_type": "code",
        "colab": {
          "base_uri": "https://localhost:8080/",
          "height": 102
        },
        "outputId": "1e5a4f8f-35a4-46aa-a633-b89f75500309"
      },
      "source": [
        "x = 50\n",
        "\n",
        "def func():\n",
        "    global x\n",
        "    print('This function is now using the global x!')\n",
        "    print('Because of global x is: ', x)\n",
        "    x = 2\n",
        "    print('Ran func(), changed global x to', x)\n",
        "\n",
        "print('Before calling func(), x is: ', x)\n",
        "func()\n",
        "print('Value of x (outside of func()) is: ', x)"
      ],
      "execution_count": 10,
      "outputs": [
        {
          "output_type": "stream",
          "text": [
            "Before calling func(), x is:  50\n",
            "This function is now using the global x!\n",
            "Because of global x is:  50\n",
            "Ran func(), changed global x to 2\n",
            "Value of x (outside of func()) is:  2\n"
          ],
          "name": "stdout"
        }
      ]
    },
    {
      "cell_type": "markdown",
      "metadata": {
        "collapsed": true,
        "id": "EkmuQ6YKFrSA",
        "colab_type": "text"
      },
      "source": [
        "The <code>global</code> statement is used to declare that **x** is a global variable - hence, when we assign a value to **x** inside the function, that change is reflected when we use the value of **x** in the main block.\n",
        "\n",
        "You can specify more than one global variable using the same global statement e.g. <code>global x, y, z</code>."
      ]
    }
  ]
}