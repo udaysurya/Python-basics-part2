{
  "nbformat": 4,
  "nbformat_minor": 0,
  "metadata": {
    "kernelspec": {
      "display_name": "Python 3",
      "language": "python",
      "name": "python3"
    },
    "language_info": {
      "codemirror_mode": {
        "name": "ipython",
        "version": 3
      },
      "file_extension": ".py",
      "mimetype": "text/x-python",
      "name": "python",
      "nbconvert_exporter": "python",
      "pygments_lexer": "ipython3",
      "version": "3.6.5"
    },
    "colab": {
      "name": "05LambdaExpressionsMapandFilter (1).ipynb",
      "version": "0.3.2",
      "provenance": []
    }
  },
  "cells": [
    {
      "cell_type": "markdown",
      "metadata": {
        "id": "1iaEOpRjAzWt",
        "colab_type": "text"
      },
      "source": [
        "# Lambda Expressions, Map, and Filter\n",
        "\n",
        "Now its time to quickly learn about two built in functions, filter and map. Once we learn about how these operate, we can learn about the lambda expression, which will come in handy when you begin to develop your skills further!"
      ]
    },
    {
      "cell_type": "markdown",
      "metadata": {
        "id": "8llV5qLFAzWv",
        "colab_type": "text"
      },
      "source": [
        "## map function\n",
        "\n",
        "The **map** function allows you to \"map\" a function to an iterable object. That is to say you can quickly call the same function to every item in an iterable, such as a list. For example:"
      ]
    },
    {
      "cell_type": "code",
      "metadata": {
        "id": "2n_IUaZWAzWw",
        "colab_type": "code",
        "colab": {}
      },
      "source": [
        "def square(num):\n",
        "    return num**2"
      ],
      "execution_count": 0,
      "outputs": []
    },
    {
      "cell_type": "code",
      "metadata": {
        "id": "Jck9IzhBAzW0",
        "colab_type": "code",
        "colab": {}
      },
      "source": [
        "my_nums = [1,2,3,4,5]"
      ],
      "execution_count": 0,
      "outputs": []
    },
    {
      "cell_type": "code",
      "metadata": {
        "id": "g3FBLW-fAzW3",
        "colab_type": "code",
        "colab": {
          "base_uri": "https://localhost:8080/",
          "height": 34
        },
        "outputId": "9c861176-a6e0-460e-d1be-f6e3c7131479"
      },
      "source": [
        "map(square,my_nums)"
      ],
      "execution_count": 3,
      "outputs": [
        {
          "output_type": "execute_result",
          "data": {
            "text/plain": [
              "<map at 0x7fcbe1962198>"
            ]
          },
          "metadata": {
            "tags": []
          },
          "execution_count": 3
        }
      ]
    },
    {
      "cell_type": "code",
      "metadata": {
        "id": "iihrDO1RAzW9",
        "colab_type": "code",
        "colab": {
          "base_uri": "https://localhost:8080/",
          "height": 34
        },
        "outputId": "dfac905d-9cc1-4daa-d7fc-b45dfa43f4b7"
      },
      "source": [
        "# To get the results, either iterate through map() \n",
        "# or just cast to a list\n",
        "list(map(square,my_nums))"
      ],
      "execution_count": 4,
      "outputs": [
        {
          "output_type": "execute_result",
          "data": {
            "text/plain": [
              "[1, 4, 9, 16, 25]"
            ]
          },
          "metadata": {
            "tags": []
          },
          "execution_count": 4
        }
      ]
    },
    {
      "cell_type": "markdown",
      "metadata": {
        "id": "8Lk08nM1AzXB",
        "colab_type": "text"
      },
      "source": [
        "The functions can also be more complex"
      ]
    },
    {
      "cell_type": "code",
      "metadata": {
        "id": "gudeThHUAzXC",
        "colab_type": "code",
        "colab": {}
      },
      "source": [
        "def splicer(mystring):\n",
        "    if len(mystring) % 2 == 0:\n",
        "        return 'even'\n",
        "    else:\n",
        "        return mystring[0]"
      ],
      "execution_count": 0,
      "outputs": []
    },
    {
      "cell_type": "code",
      "metadata": {
        "id": "fGuxShiBAzXF",
        "colab_type": "code",
        "colab": {}
      },
      "source": [
        "mynames = ['John','Cindy','Sarah','Kelly','Mike']"
      ],
      "execution_count": 0,
      "outputs": []
    },
    {
      "cell_type": "code",
      "metadata": {
        "id": "tQ0TZ6ZfAzXN",
        "colab_type": "code",
        "colab": {
          "base_uri": "https://localhost:8080/",
          "height": 34
        },
        "outputId": "4ff028e1-84d4-4f6e-a6d1-f567c2061389"
      },
      "source": [
        "list(map(splicer,mynames))"
      ],
      "execution_count": 7,
      "outputs": [
        {
          "output_type": "execute_result",
          "data": {
            "text/plain": [
              "['even', 'C', 'S', 'K', 'even']"
            ]
          },
          "metadata": {
            "tags": []
          },
          "execution_count": 7
        }
      ]
    },
    {
      "cell_type": "markdown",
      "metadata": {
        "id": "wHxutvpRAzXQ",
        "colab_type": "text"
      },
      "source": [
        "## filter function\n",
        "\n",
        "The filter function returns an iterator yielding those items of iterable for which function(item)\n",
        "is true. Meaning you need to filter by a function that returns either True or False. Then passing that into filter (along with your iterable) and you will get back only the results that would return True when passed to the function."
      ]
    },
    {
      "cell_type": "code",
      "metadata": {
        "id": "JSgpEfhFAzXS",
        "colab_type": "code",
        "colab": {}
      },
      "source": [
        "def check_even(num):\n",
        "    return num % 2 == 0 "
      ],
      "execution_count": 0,
      "outputs": []
    },
    {
      "cell_type": "code",
      "metadata": {
        "id": "GL6uFtpAAzXU",
        "colab_type": "code",
        "colab": {}
      },
      "source": [
        "nums = [0,1,2,3,4,5,6,7,8,9,10]"
      ],
      "execution_count": 0,
      "outputs": []
    },
    {
      "cell_type": "code",
      "metadata": {
        "id": "Ty_CDJLYAzXY",
        "colab_type": "code",
        "colab": {
          "base_uri": "https://localhost:8080/",
          "height": 34
        },
        "outputId": "a4af7ae7-7c83-4387-b21c-7853813dac41"
      },
      "source": [
        "filter(check_even,nums)"
      ],
      "execution_count": 10,
      "outputs": [
        {
          "output_type": "execute_result",
          "data": {
            "text/plain": [
              "<filter at 0x7fcbe1962438>"
            ]
          },
          "metadata": {
            "tags": []
          },
          "execution_count": 10
        }
      ]
    },
    {
      "cell_type": "code",
      "metadata": {
        "id": "2SihohvFAzXb",
        "colab_type": "code",
        "colab": {
          "base_uri": "https://localhost:8080/",
          "height": 34
        },
        "outputId": "b43af39a-0a29-4e57-e2bf-6ca8b1e8c484"
      },
      "source": [
        "list(filter(check_even,nums))"
      ],
      "execution_count": 11,
      "outputs": [
        {
          "output_type": "execute_result",
          "data": {
            "text/plain": [
              "[0, 2, 4, 6, 8, 10]"
            ]
          },
          "metadata": {
            "tags": []
          },
          "execution_count": 11
        }
      ]
    },
    {
      "cell_type": "markdown",
      "metadata": {
        "collapsed": true,
        "id": "jUudcC6hAzXf",
        "colab_type": "text"
      },
      "source": [
        "## lambda expression\n",
        "\n",
        "One of Pythons most useful (and for beginners, confusing) tools is the lambda expression. lambda expressions allow us to create \"anonymous\" functions. This basically means we can quickly make ad-hoc functions without needing to properly define a function using def.\n",
        "\n",
        "Function objects returned by running lambda expressions work exactly the same as those created and assigned by defs. There is key difference that makes lambda useful in specialized roles:\n",
        "\n",
        "**lambda's body is a single expression, not a block of statements.**\n",
        "\n",
        "* The lambda's body is similar to what we would put in a def body's return statement. We simply type the result as an expression instead of explicitly returning it. Because it is limited to an expression, a lambda is less general that a def. We can only squeeze design, to limit program nesting. lambda is designed for coding simple functions, and def handles the larger tasks."
      ]
    },
    {
      "cell_type": "markdown",
      "metadata": {
        "id": "GPsxlOp_AzXg",
        "colab_type": "text"
      },
      "source": [
        "Lets slowly break down a lambda expression by deconstructing a function:"
      ]
    },
    {
      "cell_type": "code",
      "metadata": {
        "id": "QEJObtUVAzXh",
        "colab_type": "code",
        "colab": {}
      },
      "source": [
        "def square(num):\n",
        "    result = num**2\n",
        "    return result"
      ],
      "execution_count": 0,
      "outputs": []
    },
    {
      "cell_type": "code",
      "metadata": {
        "id": "ldyZyMJFAzXl",
        "colab_type": "code",
        "colab": {
          "base_uri": "https://localhost:8080/",
          "height": 34
        },
        "outputId": "d42adddc-80b5-439c-ea9b-cb58a307823a"
      },
      "source": [
        "square(2)"
      ],
      "execution_count": 14,
      "outputs": [
        {
          "output_type": "execute_result",
          "data": {
            "text/plain": [
              "4"
            ]
          },
          "metadata": {
            "tags": []
          },
          "execution_count": 14
        }
      ]
    },
    {
      "cell_type": "markdown",
      "metadata": {
        "id": "krta2XNeAzXp",
        "colab_type": "text"
      },
      "source": [
        "We could simplify it:"
      ]
    },
    {
      "cell_type": "code",
      "metadata": {
        "id": "WXDmeCaAAzXq",
        "colab_type": "code",
        "colab": {}
      },
      "source": [
        "def square(num):\n",
        "    return num**2"
      ],
      "execution_count": 0,
      "outputs": []
    },
    {
      "cell_type": "code",
      "metadata": {
        "id": "aENxhn9OAzXv",
        "colab_type": "code",
        "colab": {
          "base_uri": "https://localhost:8080/",
          "height": 34
        },
        "outputId": "fa3f3010-2d24-46b7-b85f-651555045f56"
      },
      "source": [
        "square(2)"
      ],
      "execution_count": 16,
      "outputs": [
        {
          "output_type": "execute_result",
          "data": {
            "text/plain": [
              "4"
            ]
          },
          "metadata": {
            "tags": []
          },
          "execution_count": 16
        }
      ]
    },
    {
      "cell_type": "markdown",
      "metadata": {
        "id": "Bbm4wRJAAzX3",
        "colab_type": "text"
      },
      "source": [
        "We could actually even write this all on one line."
      ]
    },
    {
      "cell_type": "code",
      "metadata": {
        "id": "0Jjh5Nk7AzX4",
        "colab_type": "code",
        "colab": {}
      },
      "source": [
        "def square(num): return num**2"
      ],
      "execution_count": 0,
      "outputs": []
    },
    {
      "cell_type": "code",
      "metadata": {
        "id": "poPulvSKAzX9",
        "colab_type": "code",
        "colab": {
          "base_uri": "https://localhost:8080/",
          "height": 34
        },
        "outputId": "2605840e-dd6c-4aa9-b1ac-6c044c4b7331"
      },
      "source": [
        "square(2)"
      ],
      "execution_count": 18,
      "outputs": [
        {
          "output_type": "execute_result",
          "data": {
            "text/plain": [
              "4"
            ]
          },
          "metadata": {
            "tags": []
          },
          "execution_count": 18
        }
      ]
    },
    {
      "cell_type": "markdown",
      "metadata": {
        "id": "J2aG3VFEAzYE",
        "colab_type": "text"
      },
      "source": [
        "This is the form a function that a lambda expression intends to replicate. A lambda expression can then be written as:"
      ]
    },
    {
      "cell_type": "code",
      "metadata": {
        "id": "dA_WL-w4AzYF",
        "colab_type": "code",
        "colab": {
          "base_uri": "https://localhost:8080/",
          "height": 34
        },
        "outputId": "d249cebb-a623-4db8-963b-79a38302c961"
      },
      "source": [
        "lambda num: num ** 2"
      ],
      "execution_count": 19,
      "outputs": [
        {
          "output_type": "execute_result",
          "data": {
            "text/plain": [
              "<function __main__.<lambda>>"
            ]
          },
          "metadata": {
            "tags": []
          },
          "execution_count": 19
        }
      ]
    },
    {
      "cell_type": "code",
      "metadata": {
        "id": "JMwvc1cPAzYJ",
        "colab_type": "code",
        "colab": {}
      },
      "source": [
        "# You wouldn't usually assign a name to a lambda expression, this is just for demonstration!\n",
        "square = lambda num: num **2"
      ],
      "execution_count": 0,
      "outputs": []
    },
    {
      "cell_type": "code",
      "metadata": {
        "id": "w1sFoK5tAzYL",
        "colab_type": "code",
        "colab": {
          "base_uri": "https://localhost:8080/",
          "height": 34
        },
        "outputId": "9d1d0907-df0a-43d2-b3a2-2242fc60db95"
      },
      "source": [
        "square(2)"
      ],
      "execution_count": 21,
      "outputs": [
        {
          "output_type": "execute_result",
          "data": {
            "text/plain": [
              "4"
            ]
          },
          "metadata": {
            "tags": []
          },
          "execution_count": 21
        }
      ]
    },
    {
      "cell_type": "markdown",
      "metadata": {
        "id": "McCugXs1AzYO",
        "colab_type": "text"
      },
      "source": [
        "So why would use this? Many function calls need a function passed in, such as map and filter. Often you only need to use the function you are passing in once, so instead of formally defining it, you just use the lambda expression. Let's repeat some of the examples from above with a lambda expression"
      ]
    },
    {
      "cell_type": "code",
      "metadata": {
        "id": "HplU8w01AzYP",
        "colab_type": "code",
        "colab": {
          "base_uri": "https://localhost:8080/",
          "height": 34
        },
        "outputId": "80a76c5f-8038-4b26-8612-b46b06cebfdb"
      },
      "source": [
        "list(map(lambda num: num ** 2, my_nums))"
      ],
      "execution_count": 23,
      "outputs": [
        {
          "output_type": "execute_result",
          "data": {
            "text/plain": [
              "[1, 4, 9, 16, 25]"
            ]
          },
          "metadata": {
            "tags": []
          },
          "execution_count": 23
        }
      ]
    },
    {
      "cell_type": "code",
      "metadata": {
        "id": "PyxUzTrkAzYV",
        "colab_type": "code",
        "colab": {
          "base_uri": "https://localhost:8080/",
          "height": 34
        },
        "outputId": "e7662987-d5ba-4f04-e808-360bb53d9171"
      },
      "source": [
        "list(filter(lambda n: n % 2 == 0,nums))"
      ],
      "execution_count": 24,
      "outputs": [
        {
          "output_type": "execute_result",
          "data": {
            "text/plain": [
              "[0, 2, 4, 6, 8, 10]"
            ]
          },
          "metadata": {
            "tags": []
          },
          "execution_count": 24
        }
      ]
    },
    {
      "cell_type": "markdown",
      "metadata": {
        "id": "g4RK8o9EAzYY",
        "colab_type": "text"
      },
      "source": [
        "Here are a few more examples, keep in mind the more comples a function is, the harder it is to translate into a lambda expression, meaning sometimes its just easier (and often the only way) to create the def keyword function."
      ]
    },
    {
      "cell_type": "markdown",
      "metadata": {
        "id": "fjB-yK-rAzYY",
        "colab_type": "text"
      },
      "source": [
        "** Lambda expression for grabbing the first character of a string: **"
      ]
    },
    {
      "cell_type": "code",
      "metadata": {
        "id": "YX9T8OY3AzYZ",
        "colab_type": "code",
        "colab": {
          "base_uri": "https://localhost:8080/",
          "height": 34
        },
        "outputId": "384820ff-526a-41a9-c057-16e97a618df3"
      },
      "source": [
        "lambda s: s[0]"
      ],
      "execution_count": 25,
      "outputs": [
        {
          "output_type": "execute_result",
          "data": {
            "text/plain": [
              "<function __main__.<lambda>>"
            ]
          },
          "metadata": {
            "tags": []
          },
          "execution_count": 25
        }
      ]
    },
    {
      "cell_type": "markdown",
      "metadata": {
        "id": "KK2UQWAkAzYd",
        "colab_type": "text"
      },
      "source": [
        "** Lambda expression for reversing a string: **"
      ]
    },
    {
      "cell_type": "code",
      "metadata": {
        "id": "TKU1KPmzAzYd",
        "colab_type": "code",
        "colab": {
          "base_uri": "https://localhost:8080/",
          "height": 34
        },
        "outputId": "46376e5d-edc2-47f1-9a4a-605e4c1fce1b"
      },
      "source": [
        "lambda s: s[::-1]"
      ],
      "execution_count": 26,
      "outputs": [
        {
          "output_type": "execute_result",
          "data": {
            "text/plain": [
              "<function __main__.<lambda>>"
            ]
          },
          "metadata": {
            "tags": []
          },
          "execution_count": 26
        }
      ]
    },
    {
      "cell_type": "markdown",
      "metadata": {
        "id": "plzFy0-aAzYj",
        "colab_type": "text"
      },
      "source": [
        "You can even pass in multiple arguments into a lambda expression. Again, keep in mind that not every function can be translated into a lambda expression."
      ]
    },
    {
      "cell_type": "code",
      "metadata": {
        "id": "CpbtCSLtAzYk",
        "colab_type": "code",
        "colab": {
          "base_uri": "https://localhost:8080/",
          "height": 34
        },
        "outputId": "c9b078ab-10fe-4c40-b0b5-bf4d85d7f8f1"
      },
      "source": [
        "lambda x,y : x + y"
      ],
      "execution_count": 27,
      "outputs": [
        {
          "output_type": "execute_result",
          "data": {
            "text/plain": [
              "<function __main__.<lambda>>"
            ]
          },
          "metadata": {
            "tags": []
          },
          "execution_count": 27
        }
      ]
    },
    {
      "cell_type": "markdown",
      "metadata": {
        "id": "OQRLnPg3AzYn",
        "colab_type": "text"
      },
      "source": [
        "You will find yourself using lambda expressions often with certain non-built-in libraries, for example the pandas library for data analysis works very well with lambda expressions."
      ]
    }
  ]
}