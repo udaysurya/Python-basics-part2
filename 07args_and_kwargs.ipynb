{
  "nbformat": 4,
  "nbformat_minor": 0,
  "metadata": {
    "kernelspec": {
      "display_name": "Python 3",
      "language": "python",
      "name": "python3"
    },
    "language_info": {
      "codemirror_mode": {
        "name": "ipython",
        "version": 3
      },
      "file_extension": ".py",
      "mimetype": "text/x-python",
      "name": "python",
      "nbconvert_exporter": "python",
      "pygments_lexer": "ipython3",
      "version": "3.6.5"
    },
    "colab": {
      "name": "07args_and_kwargs (2).ipynb",
      "version": "0.3.2",
      "provenance": []
    }
  },
  "cells": [
    {
      "cell_type": "markdown",
      "metadata": {
        "id": "BsXYUPCUM9OY",
        "colab_type": "text"
      },
      "source": [
        "# `*args` and `**kwargs`\n",
        "\n",
        "Work with Python long enough, and eventually you will encounter `*args` and `**kwargs`. These strange terms show up as parameters in function definitions. What do they do? Let's review a simple function:"
      ]
    },
    {
      "cell_type": "code",
      "metadata": {
        "id": "iyTowSjjM9Oa",
        "colab_type": "code",
        "colab": {
          "base_uri": "https://localhost:8080/",
          "height": 34
        },
        "outputId": "ef5ba7fe-7c28-44b9-f77b-93e44373ba0f"
      },
      "source": [
        "def myfunc(a,b):\n",
        "    return sum((a,b))*.05\n",
        "\n",
        "myfunc(40,60)"
      ],
      "execution_count": 1,
      "outputs": [
        {
          "output_type": "execute_result",
          "data": {
            "text/plain": [
              "5.0"
            ]
          },
          "metadata": {
            "tags": []
          },
          "execution_count": 1
        }
      ]
    },
    {
      "cell_type": "markdown",
      "metadata": {
        "id": "KhC-jve9M9Oj",
        "colab_type": "text"
      },
      "source": [
        "This function returns 5% of the sum of **a** and **b**. In this example, **a** and **b** are *positional* arguments; that is, 40 is assigned to **a** because it is the first argument, and 60 to **b**. Notice also that to work with multiple positional arguments in the `sum()` function we had to pass them in as a tuple.\n",
        "\n",
        "What if we want to work with more than two numbers? One way would be to assign a *lot* of parameters, and give each one a default value."
      ]
    },
    {
      "cell_type": "code",
      "metadata": {
        "id": "Vfv6TBX_M9Ol",
        "colab_type": "code",
        "colab": {
          "base_uri": "https://localhost:8080/",
          "height": 34
        },
        "outputId": "795c118c-cb00-4f70-bfd3-550b0d341e0c"
      },
      "source": [
        "def myfunc(a=0,b=0,c=0,d=0,e=0):\n",
        "    return sum((a,b,c,d,e))*.05\n",
        "\n",
        "myfunc(40,60,20)"
      ],
      "execution_count": 2,
      "outputs": [
        {
          "output_type": "execute_result",
          "data": {
            "text/plain": [
              "6.0"
            ]
          },
          "metadata": {
            "tags": []
          },
          "execution_count": 2
        }
      ]
    },
    {
      "cell_type": "markdown",
      "metadata": {
        "id": "wrDFecrsM9Oq",
        "colab_type": "text"
      },
      "source": [
        "Obviously this is not a very efficient solution, and that's where `*args` comes in.\n",
        "\n",
        "## `*args`\n",
        "\n",
        "When a function parameter starts with an asterisk, it allows for an *arbitrary number* of arguments, and the function takes them in as a tuple of values. Rewriting the above function:"
      ]
    },
    {
      "cell_type": "code",
      "metadata": {
        "id": "DmeuMPX3M9Or",
        "colab_type": "code",
        "colab": {
          "base_uri": "https://localhost:8080/",
          "height": 34
        },
        "outputId": "9be82882-5b55-4701-bf87-c80738befb47"
      },
      "source": [
        "def myfunc(*args):\n",
        "    return sum(args)*.05\n",
        "\n",
        "myfunc(40,60,20)"
      ],
      "execution_count": 3,
      "outputs": [
        {
          "output_type": "execute_result",
          "data": {
            "text/plain": [
              "6.0"
            ]
          },
          "metadata": {
            "tags": []
          },
          "execution_count": 3
        }
      ]
    },
    {
      "cell_type": "markdown",
      "metadata": {
        "id": "1ciKj6aqM9Ow",
        "colab_type": "text"
      },
      "source": [
        "Notice how passing the keyword \"args\" into the `sum()` function did the same thing as a tuple of arguments.\n",
        "\n",
        "It is worth noting that the word \"args\" is itself arbitrary - any word will do so long as it's preceded by an asterisk. To demonstrate this:"
      ]
    },
    {
      "cell_type": "code",
      "metadata": {
        "id": "KbF8CIEJM9Ox",
        "colab_type": "code",
        "colab": {},
        "outputId": "141ebad8-9e2d-4bca-ff16-c1254b2cce49"
      },
      "source": [
        "def myfunc(*spam):\n",
        "    return sum(spam)*.05\n",
        "\n",
        "myfunc(40,60,20)"
      ],
      "execution_count": 0,
      "outputs": [
        {
          "output_type": "execute_result",
          "data": {
            "text/plain": [
              "6.0"
            ]
          },
          "metadata": {
            "tags": []
          },
          "execution_count": 4
        }
      ]
    },
    {
      "cell_type": "markdown",
      "metadata": {
        "id": "AnUQDvBgM9O0",
        "colab_type": "text"
      },
      "source": [
        "## `**kwargs`\n",
        "\n",
        "Similarly, Python offers a way to handle arbitrary numbers of *keyworded* arguments. Instead of creating a tuple of values, `**kwargs` builds a dictionary of key/value pairs. For example:"
      ]
    },
    {
      "cell_type": "code",
      "metadata": {
        "id": "3G_gaTcbM9O1",
        "colab_type": "code",
        "colab": {
          "base_uri": "https://localhost:8080/",
          "height": 34
        },
        "outputId": "b7c7c3b2-28fc-414f-c865-506bdaac0a41"
      },
      "source": [
        "def myfunc(**kwargs):\n",
        "    if 'fruit' in kwargs:\n",
        "        print(f\"My favorite fruit is {kwargs['fruit']}\")  # review String Formatting and f-strings if this syntax is unfamiliar\n",
        "    else:\n",
        "        print(\"I don't like fruit\")\n",
        "        \n",
        "myfunc(fruit='pineapple')"
      ],
      "execution_count": 5,
      "outputs": [
        {
          "output_type": "stream",
          "text": [
            "My favorite fruit is pineapple\n"
          ],
          "name": "stdout"
        }
      ]
    },
    {
      "cell_type": "code",
      "metadata": {
        "id": "ZigrMZkvM9O4",
        "colab_type": "code",
        "colab": {
          "base_uri": "https://localhost:8080/",
          "height": 34
        },
        "outputId": "36d85d57-1fbc-4362-ea6e-23612733601f"
      },
      "source": [
        "myfunc()"
      ],
      "execution_count": 6,
      "outputs": [
        {
          "output_type": "stream",
          "text": [
            "I don't like fruit\n"
          ],
          "name": "stdout"
        }
      ]
    },
    {
      "cell_type": "markdown",
      "metadata": {
        "id": "MkijAnqDM9O8",
        "colab_type": "text"
      },
      "source": [
        "## `*args` and `**kwargs` combined\n",
        "\n",
        "You can pass `*args` and `**kwargs` into the same function, but `*args` have to appear before `**kwargs`"
      ]
    },
    {
      "cell_type": "code",
      "metadata": {
        "id": "BDwcpt9YM9O9",
        "colab_type": "code",
        "colab": {
          "base_uri": "https://localhost:8080/",
          "height": 51
        },
        "outputId": "ce56935b-408c-4fd0-dc9c-2243f15def96"
      },
      "source": [
        "def myfunc(*args, **kwargs):\n",
        "    if 'fruit' and 'juice' in kwargs:\n",
        "        print(f\"I like {' and '.join(args)} and my favorite fruit is {kwargs['fruit']}\")\n",
        "        print(f\"May I have some {kwargs['juice']} juice?\")\n",
        "    else:\n",
        "        pass\n",
        "        \n",
        "myfunc('eggs','spam',fruit='cherries',juice='orange')"
      ],
      "execution_count": 7,
      "outputs": [
        {
          "output_type": "stream",
          "text": [
            "I like eggs and spam and my favorite fruit is cherries\n",
            "May I have some orange juice?\n"
          ],
          "name": "stdout"
        }
      ]
    },
    {
      "cell_type": "markdown",
      "metadata": {
        "id": "pQyy4HDxM9PB",
        "colab_type": "text"
      },
      "source": [
        "Placing keyworded arguments ahead of positional arguments raises an exception:"
      ]
    },
    {
      "cell_type": "code",
      "metadata": {
        "id": "cj4vVwApM9PC",
        "colab_type": "code",
        "colab": {
          "base_uri": "https://localhost:8080/",
          "height": 129
        },
        "outputId": "eef5384b-be2a-4f84-a1fa-65be1532f94a"
      },
      "source": [
        "myfunc(fruit='cherries',juice='orange','eggs','spam')"
      ],
      "execution_count": 8,
      "outputs": [
        {
          "output_type": "error",
          "ename": "SyntaxError",
          "evalue": "ignored",
          "traceback": [
            "\u001b[0;36m  File \u001b[0;32m\"<ipython-input-8-fc6ff65addcc>\"\u001b[0;36m, line \u001b[0;32m1\u001b[0m\n\u001b[0;31m    myfunc(fruit='cherries',juice='orange','eggs','spam')\u001b[0m\n\u001b[0m                                          ^\u001b[0m\n\u001b[0;31mSyntaxError\u001b[0m\u001b[0;31m:\u001b[0m positional argument follows keyword argument\n"
          ]
        }
      ]
    },
    {
      "cell_type": "markdown",
      "metadata": {
        "id": "GhiLOAg_M9PG",
        "colab_type": "text"
      },
      "source": [
        "As with \"args\", you can use any name you'd like for keyworded arguments - \"kwargs\" is just a popular convention.\n",
        "\n",
        "That's it! Now you should understand how `*args` and `**kwargs` provide the flexibilty to work with arbitrary numbers of arguments!"
      ]
    }
  ]
}